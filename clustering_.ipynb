{
  "nbformat": 4,
  "nbformat_minor": 0,
  "metadata": {
    "colab": {
      "provenance": [],
      "authorship_tag": "ABX9TyO04Rp7Qf3wOk6n//TeW2Gk",
      "include_colab_link": true
    },
    "kernelspec": {
      "name": "python3",
      "display_name": "Python 3"
    },
    "language_info": {
      "name": "python"
    }
  },
  "cells": [
    {
      "cell_type": "markdown",
      "metadata": {
        "id": "view-in-github",
        "colab_type": "text"
      },
      "source": [
        "<a href=\"https://colab.research.google.com/github/Madhuanabala/breast-cancer/blob/model-building/clustering_.ipynb\" target=\"_parent\"><img src=\"https://colab.research.google.com/assets/colab-badge.svg\" alt=\"Open In Colab\"/></a>"
      ]
    },
    {
      "cell_type": "code",
      "execution_count": 66,
      "metadata": {
        "id": "xGjiwsqVM50I"
      },
      "outputs": [],
      "source": [
        "import pandas as pd\n",
        "import matplotlib.pyplot as plt\n",
        "import seaborn as sns\n",
        "from sklearn.cluster import KMeans\n",
        "from sklearn.preprocessing import StandardScaler\n",
        "from sklearn.metrics import silhouette_score\n",
        "import numpy as np"
      ]
    },
    {
      "cell_type": "code",
      "source": [
        "df=pd.read_excel(\"/content/data for clustering.xlsx\")\n",
        "df"
      ],
      "metadata": {
        "colab": {
          "base_uri": "https://localhost:8080/",
          "height": 423
        },
        "id": "ngZ_-UxJNL-d",
        "outputId": "3b1f80a0-0ef0-4dd9-d02a-18f7ec9a53db"
      },
      "execution_count": 67,
      "outputs": [
        {
          "output_type": "execute_result",
          "data": {
            "text/plain": [
              "    PHYTOCHEMICALNAME   anti-cancer  anti-inflammatory  anti-angiogenic  \\\n",
              "0         ursolic acid            1                  0                1   \n",
              "1            quercitin            1                  0                1   \n",
              "2           scopoletin            1                  1                1   \n",
              "3            bergapten            1                  0                0   \n",
              "4       falcarindiol,             1                  0                0   \n",
              "..                 ...          ...                ...              ...   \n",
              "269       Santarubin C            1                  1                0   \n",
              "270           Sinigrin            1                  1                0   \n",
              "271     Acetylbarlerin            1                  1                0   \n",
              "272       Alpha-Amyrin            1                  1                1   \n",
              "273       Beta-Elemene            1                  1                1   \n",
              "\n",
              "     anti-metastatic  \n",
              "0                  1  \n",
              "1                  1  \n",
              "2                  0  \n",
              "3                  0  \n",
              "4                  0  \n",
              "..               ...  \n",
              "269                0  \n",
              "270                0  \n",
              "271                0  \n",
              "272                1  \n",
              "273                1  \n",
              "\n",
              "[274 rows x 5 columns]"
            ],
            "text/html": [
              "\n",
              "  <div id=\"df-be90ba40-29bb-428d-8195-ee3af5d4935c\" class=\"colab-df-container\">\n",
              "    <div>\n",
              "<style scoped>\n",
              "    .dataframe tbody tr th:only-of-type {\n",
              "        vertical-align: middle;\n",
              "    }\n",
              "\n",
              "    .dataframe tbody tr th {\n",
              "        vertical-align: top;\n",
              "    }\n",
              "\n",
              "    .dataframe thead th {\n",
              "        text-align: right;\n",
              "    }\n",
              "</style>\n",
              "<table border=\"1\" class=\"dataframe\">\n",
              "  <thead>\n",
              "    <tr style=\"text-align: right;\">\n",
              "      <th></th>\n",
              "      <th>PHYTOCHEMICALNAME</th>\n",
              "      <th>anti-cancer</th>\n",
              "      <th>anti-inflammatory</th>\n",
              "      <th>anti-angiogenic</th>\n",
              "      <th>anti-metastatic</th>\n",
              "    </tr>\n",
              "  </thead>\n",
              "  <tbody>\n",
              "    <tr>\n",
              "      <th>0</th>\n",
              "      <td>ursolic acid</td>\n",
              "      <td>1</td>\n",
              "      <td>0</td>\n",
              "      <td>1</td>\n",
              "      <td>1</td>\n",
              "    </tr>\n",
              "    <tr>\n",
              "      <th>1</th>\n",
              "      <td>quercitin</td>\n",
              "      <td>1</td>\n",
              "      <td>0</td>\n",
              "      <td>1</td>\n",
              "      <td>1</td>\n",
              "    </tr>\n",
              "    <tr>\n",
              "      <th>2</th>\n",
              "      <td>scopoletin</td>\n",
              "      <td>1</td>\n",
              "      <td>1</td>\n",
              "      <td>1</td>\n",
              "      <td>0</td>\n",
              "    </tr>\n",
              "    <tr>\n",
              "      <th>3</th>\n",
              "      <td>bergapten</td>\n",
              "      <td>1</td>\n",
              "      <td>0</td>\n",
              "      <td>0</td>\n",
              "      <td>0</td>\n",
              "    </tr>\n",
              "    <tr>\n",
              "      <th>4</th>\n",
              "      <td>falcarindiol,</td>\n",
              "      <td>1</td>\n",
              "      <td>0</td>\n",
              "      <td>0</td>\n",
              "      <td>0</td>\n",
              "    </tr>\n",
              "    <tr>\n",
              "      <th>...</th>\n",
              "      <td>...</td>\n",
              "      <td>...</td>\n",
              "      <td>...</td>\n",
              "      <td>...</td>\n",
              "      <td>...</td>\n",
              "    </tr>\n",
              "    <tr>\n",
              "      <th>269</th>\n",
              "      <td>Santarubin C</td>\n",
              "      <td>1</td>\n",
              "      <td>1</td>\n",
              "      <td>0</td>\n",
              "      <td>0</td>\n",
              "    </tr>\n",
              "    <tr>\n",
              "      <th>270</th>\n",
              "      <td>Sinigrin</td>\n",
              "      <td>1</td>\n",
              "      <td>1</td>\n",
              "      <td>0</td>\n",
              "      <td>0</td>\n",
              "    </tr>\n",
              "    <tr>\n",
              "      <th>271</th>\n",
              "      <td>Acetylbarlerin</td>\n",
              "      <td>1</td>\n",
              "      <td>1</td>\n",
              "      <td>0</td>\n",
              "      <td>0</td>\n",
              "    </tr>\n",
              "    <tr>\n",
              "      <th>272</th>\n",
              "      <td>Alpha-Amyrin</td>\n",
              "      <td>1</td>\n",
              "      <td>1</td>\n",
              "      <td>1</td>\n",
              "      <td>1</td>\n",
              "    </tr>\n",
              "    <tr>\n",
              "      <th>273</th>\n",
              "      <td>Beta-Elemene</td>\n",
              "      <td>1</td>\n",
              "      <td>1</td>\n",
              "      <td>1</td>\n",
              "      <td>1</td>\n",
              "    </tr>\n",
              "  </tbody>\n",
              "</table>\n",
              "<p>274 rows × 5 columns</p>\n",
              "</div>\n",
              "    <div class=\"colab-df-buttons\">\n",
              "\n",
              "  <div class=\"colab-df-container\">\n",
              "    <button class=\"colab-df-convert\" onclick=\"convertToInteractive('df-be90ba40-29bb-428d-8195-ee3af5d4935c')\"\n",
              "            title=\"Convert this dataframe to an interactive table.\"\n",
              "            style=\"display:none;\">\n",
              "\n",
              "  <svg xmlns=\"http://www.w3.org/2000/svg\" height=\"24px\" viewBox=\"0 -960 960 960\">\n",
              "    <path d=\"M120-120v-720h720v720H120Zm60-500h600v-160H180v160Zm220 220h160v-160H400v160Zm0 220h160v-160H400v160ZM180-400h160v-160H180v160Zm440 0h160v-160H620v160ZM180-180h160v-160H180v160Zm440 0h160v-160H620v160Z\"/>\n",
              "  </svg>\n",
              "    </button>\n",
              "\n",
              "  <style>\n",
              "    .colab-df-container {\n",
              "      display:flex;\n",
              "      gap: 12px;\n",
              "    }\n",
              "\n",
              "    .colab-df-convert {\n",
              "      background-color: #E8F0FE;\n",
              "      border: none;\n",
              "      border-radius: 50%;\n",
              "      cursor: pointer;\n",
              "      display: none;\n",
              "      fill: #1967D2;\n",
              "      height: 32px;\n",
              "      padding: 0 0 0 0;\n",
              "      width: 32px;\n",
              "    }\n",
              "\n",
              "    .colab-df-convert:hover {\n",
              "      background-color: #E2EBFA;\n",
              "      box-shadow: 0px 1px 2px rgba(60, 64, 67, 0.3), 0px 1px 3px 1px rgba(60, 64, 67, 0.15);\n",
              "      fill: #174EA6;\n",
              "    }\n",
              "\n",
              "    .colab-df-buttons div {\n",
              "      margin-bottom: 4px;\n",
              "    }\n",
              "\n",
              "    [theme=dark] .colab-df-convert {\n",
              "      background-color: #3B4455;\n",
              "      fill: #D2E3FC;\n",
              "    }\n",
              "\n",
              "    [theme=dark] .colab-df-convert:hover {\n",
              "      background-color: #434B5C;\n",
              "      box-shadow: 0px 1px 3px 1px rgba(0, 0, 0, 0.15);\n",
              "      filter: drop-shadow(0px 1px 2px rgba(0, 0, 0, 0.3));\n",
              "      fill: #FFFFFF;\n",
              "    }\n",
              "  </style>\n",
              "\n",
              "    <script>\n",
              "      const buttonEl =\n",
              "        document.querySelector('#df-be90ba40-29bb-428d-8195-ee3af5d4935c button.colab-df-convert');\n",
              "      buttonEl.style.display =\n",
              "        google.colab.kernel.accessAllowed ? 'block' : 'none';\n",
              "\n",
              "      async function convertToInteractive(key) {\n",
              "        const element = document.querySelector('#df-be90ba40-29bb-428d-8195-ee3af5d4935c');\n",
              "        const dataTable =\n",
              "          await google.colab.kernel.invokeFunction('convertToInteractive',\n",
              "                                                    [key], {});\n",
              "        if (!dataTable) return;\n",
              "\n",
              "        const docLinkHtml = 'Like what you see? Visit the ' +\n",
              "          '<a target=\"_blank\" href=https://colab.research.google.com/notebooks/data_table.ipynb>data table notebook</a>'\n",
              "          + ' to learn more about interactive tables.';\n",
              "        element.innerHTML = '';\n",
              "        dataTable['output_type'] = 'display_data';\n",
              "        await google.colab.output.renderOutput(dataTable, element);\n",
              "        const docLink = document.createElement('div');\n",
              "        docLink.innerHTML = docLinkHtml;\n",
              "        element.appendChild(docLink);\n",
              "      }\n",
              "    </script>\n",
              "  </div>\n",
              "\n",
              "\n",
              "<div id=\"df-73963071-7e40-4b04-8cc9-d0076bbf5188\">\n",
              "  <button class=\"colab-df-quickchart\" onclick=\"quickchart('df-73963071-7e40-4b04-8cc9-d0076bbf5188')\"\n",
              "            title=\"Suggest charts\"\n",
              "            style=\"display:none;\">\n",
              "\n",
              "<svg xmlns=\"http://www.w3.org/2000/svg\" height=\"24px\"viewBox=\"0 0 24 24\"\n",
              "     width=\"24px\">\n",
              "    <g>\n",
              "        <path d=\"M19 3H5c-1.1 0-2 .9-2 2v14c0 1.1.9 2 2 2h14c1.1 0 2-.9 2-2V5c0-1.1-.9-2-2-2zM9 17H7v-7h2v7zm4 0h-2V7h2v10zm4 0h-2v-4h2v4z\"/>\n",
              "    </g>\n",
              "</svg>\n",
              "  </button>\n",
              "\n",
              "<style>\n",
              "  .colab-df-quickchart {\n",
              "      --bg-color: #E8F0FE;\n",
              "      --fill-color: #1967D2;\n",
              "      --hover-bg-color: #E2EBFA;\n",
              "      --hover-fill-color: #174EA6;\n",
              "      --disabled-fill-color: #AAA;\n",
              "      --disabled-bg-color: #DDD;\n",
              "  }\n",
              "\n",
              "  [theme=dark] .colab-df-quickchart {\n",
              "      --bg-color: #3B4455;\n",
              "      --fill-color: #D2E3FC;\n",
              "      --hover-bg-color: #434B5C;\n",
              "      --hover-fill-color: #FFFFFF;\n",
              "      --disabled-bg-color: #3B4455;\n",
              "      --disabled-fill-color: #666;\n",
              "  }\n",
              "\n",
              "  .colab-df-quickchart {\n",
              "    background-color: var(--bg-color);\n",
              "    border: none;\n",
              "    border-radius: 50%;\n",
              "    cursor: pointer;\n",
              "    display: none;\n",
              "    fill: var(--fill-color);\n",
              "    height: 32px;\n",
              "    padding: 0;\n",
              "    width: 32px;\n",
              "  }\n",
              "\n",
              "  .colab-df-quickchart:hover {\n",
              "    background-color: var(--hover-bg-color);\n",
              "    box-shadow: 0 1px 2px rgba(60, 64, 67, 0.3), 0 1px 3px 1px rgba(60, 64, 67, 0.15);\n",
              "    fill: var(--button-hover-fill-color);\n",
              "  }\n",
              "\n",
              "  .colab-df-quickchart-complete:disabled,\n",
              "  .colab-df-quickchart-complete:disabled:hover {\n",
              "    background-color: var(--disabled-bg-color);\n",
              "    fill: var(--disabled-fill-color);\n",
              "    box-shadow: none;\n",
              "  }\n",
              "\n",
              "  .colab-df-spinner {\n",
              "    border: 2px solid var(--fill-color);\n",
              "    border-color: transparent;\n",
              "    border-bottom-color: var(--fill-color);\n",
              "    animation:\n",
              "      spin 1s steps(1) infinite;\n",
              "  }\n",
              "\n",
              "  @keyframes spin {\n",
              "    0% {\n",
              "      border-color: transparent;\n",
              "      border-bottom-color: var(--fill-color);\n",
              "      border-left-color: var(--fill-color);\n",
              "    }\n",
              "    20% {\n",
              "      border-color: transparent;\n",
              "      border-left-color: var(--fill-color);\n",
              "      border-top-color: var(--fill-color);\n",
              "    }\n",
              "    30% {\n",
              "      border-color: transparent;\n",
              "      border-left-color: var(--fill-color);\n",
              "      border-top-color: var(--fill-color);\n",
              "      border-right-color: var(--fill-color);\n",
              "    }\n",
              "    40% {\n",
              "      border-color: transparent;\n",
              "      border-right-color: var(--fill-color);\n",
              "      border-top-color: var(--fill-color);\n",
              "    }\n",
              "    60% {\n",
              "      border-color: transparent;\n",
              "      border-right-color: var(--fill-color);\n",
              "    }\n",
              "    80% {\n",
              "      border-color: transparent;\n",
              "      border-right-color: var(--fill-color);\n",
              "      border-bottom-color: var(--fill-color);\n",
              "    }\n",
              "    90% {\n",
              "      border-color: transparent;\n",
              "      border-bottom-color: var(--fill-color);\n",
              "    }\n",
              "  }\n",
              "</style>\n",
              "\n",
              "  <script>\n",
              "    async function quickchart(key) {\n",
              "      const quickchartButtonEl =\n",
              "        document.querySelector('#' + key + ' button');\n",
              "      quickchartButtonEl.disabled = true;  // To prevent multiple clicks.\n",
              "      quickchartButtonEl.classList.add('colab-df-spinner');\n",
              "      try {\n",
              "        const charts = await google.colab.kernel.invokeFunction(\n",
              "            'suggestCharts', [key], {});\n",
              "      } catch (error) {\n",
              "        console.error('Error during call to suggestCharts:', error);\n",
              "      }\n",
              "      quickchartButtonEl.classList.remove('colab-df-spinner');\n",
              "      quickchartButtonEl.classList.add('colab-df-quickchart-complete');\n",
              "    }\n",
              "    (() => {\n",
              "      let quickchartButtonEl =\n",
              "        document.querySelector('#df-73963071-7e40-4b04-8cc9-d0076bbf5188 button');\n",
              "      quickchartButtonEl.style.display =\n",
              "        google.colab.kernel.accessAllowed ? 'block' : 'none';\n",
              "    })();\n",
              "  </script>\n",
              "</div>\n",
              "\n",
              "  <div id=\"id_cdbbdb2e-c2de-4044-bd04-1b582b042475\">\n",
              "    <style>\n",
              "      .colab-df-generate {\n",
              "        background-color: #E8F0FE;\n",
              "        border: none;\n",
              "        border-radius: 50%;\n",
              "        cursor: pointer;\n",
              "        display: none;\n",
              "        fill: #1967D2;\n",
              "        height: 32px;\n",
              "        padding: 0 0 0 0;\n",
              "        width: 32px;\n",
              "      }\n",
              "\n",
              "      .colab-df-generate:hover {\n",
              "        background-color: #E2EBFA;\n",
              "        box-shadow: 0px 1px 2px rgba(60, 64, 67, 0.3), 0px 1px 3px 1px rgba(60, 64, 67, 0.15);\n",
              "        fill: #174EA6;\n",
              "      }\n",
              "\n",
              "      [theme=dark] .colab-df-generate {\n",
              "        background-color: #3B4455;\n",
              "        fill: #D2E3FC;\n",
              "      }\n",
              "\n",
              "      [theme=dark] .colab-df-generate:hover {\n",
              "        background-color: #434B5C;\n",
              "        box-shadow: 0px 1px 3px 1px rgba(0, 0, 0, 0.15);\n",
              "        filter: drop-shadow(0px 1px 2px rgba(0, 0, 0, 0.3));\n",
              "        fill: #FFFFFF;\n",
              "      }\n",
              "    </style>\n",
              "    <button class=\"colab-df-generate\" onclick=\"generateWithVariable('df')\"\n",
              "            title=\"Generate code using this dataframe.\"\n",
              "            style=\"display:none;\">\n",
              "\n",
              "  <svg xmlns=\"http://www.w3.org/2000/svg\" height=\"24px\"viewBox=\"0 0 24 24\"\n",
              "       width=\"24px\">\n",
              "    <path d=\"M7,19H8.4L18.45,9,17,7.55,7,17.6ZM5,21V16.75L18.45,3.32a2,2,0,0,1,2.83,0l1.4,1.43a1.91,1.91,0,0,1,.58,1.4,1.91,1.91,0,0,1-.58,1.4L9.25,21ZM18.45,9,17,7.55Zm-12,3A5.31,5.31,0,0,0,4.9,8.1,5.31,5.31,0,0,0,1,6.5,5.31,5.31,0,0,0,4.9,4.9,5.31,5.31,0,0,0,6.5,1,5.31,5.31,0,0,0,8.1,4.9,5.31,5.31,0,0,0,12,6.5,5.46,5.46,0,0,0,6.5,12Z\"/>\n",
              "  </svg>\n",
              "    </button>\n",
              "    <script>\n",
              "      (() => {\n",
              "      const buttonEl =\n",
              "        document.querySelector('#id_cdbbdb2e-c2de-4044-bd04-1b582b042475 button.colab-df-generate');\n",
              "      buttonEl.style.display =\n",
              "        google.colab.kernel.accessAllowed ? 'block' : 'none';\n",
              "\n",
              "      buttonEl.onclick = () => {\n",
              "        google.colab.notebook.generateWithVariable('df');\n",
              "      }\n",
              "      })();\n",
              "    </script>\n",
              "  </div>\n",
              "\n",
              "    </div>\n",
              "  </div>\n"
            ],
            "application/vnd.google.colaboratory.intrinsic+json": {
              "type": "dataframe",
              "variable_name": "df",
              "summary": "{\n  \"name\": \"df\",\n  \"rows\": 274,\n  \"fields\": [\n    {\n      \"column\": \"PHYTOCHEMICALNAME \",\n      \"properties\": {\n        \"dtype\": \"string\",\n        \"num_unique_values\": 267,\n        \"samples\": [\n          \"Stachydrine\",\n          \"5-Hydroxy-6-methoxy-2-methyl-3-phenylbenzofuran\",\n          \"Nordihydroguaiaretic acid\"\n        ],\n        \"semantic_type\": \"\",\n        \"description\": \"\"\n      }\n    },\n    {\n      \"column\": \"anti-cancer\",\n      \"properties\": {\n        \"dtype\": \"number\",\n        \"std\": 0,\n        \"min\": 1,\n        \"max\": 1,\n        \"num_unique_values\": 1,\n        \"samples\": [\n          1\n        ],\n        \"semantic_type\": \"\",\n        \"description\": \"\"\n      }\n    },\n    {\n      \"column\": \"anti-inflammatory\",\n      \"properties\": {\n        \"dtype\": \"number\",\n        \"std\": 0,\n        \"min\": 0,\n        \"max\": 1,\n        \"num_unique_values\": 2,\n        \"samples\": [\n          1\n        ],\n        \"semantic_type\": \"\",\n        \"description\": \"\"\n      }\n    },\n    {\n      \"column\": \"anti-angiogenic\",\n      \"properties\": {\n        \"dtype\": \"number\",\n        \"std\": 0,\n        \"min\": 0,\n        \"max\": 1,\n        \"num_unique_values\": 2,\n        \"samples\": [\n          0\n        ],\n        \"semantic_type\": \"\",\n        \"description\": \"\"\n      }\n    },\n    {\n      \"column\": \"anti-metastatic\",\n      \"properties\": {\n        \"dtype\": \"number\",\n        \"std\": 0,\n        \"min\": 0,\n        \"max\": 1,\n        \"num_unique_values\": 2,\n        \"samples\": [\n          0\n        ],\n        \"semantic_type\": \"\",\n        \"description\": \"\"\n      }\n    }\n  ]\n}"
            }
          },
          "metadata": {},
          "execution_count": 67
        }
      ]
    },
    {
      "cell_type": "code",
      "source": [
        "from os import rename\n",
        "df.columns = df.columns.str.strip()  # Remove leading/trailing spaces\n",
        "df.rename(columns={'PHYTOCHEMICALNAME': 'Compounds Name'}, inplace=True)"
      ],
      "metadata": {
        "id": "7O9ZmLv_SxvB"
      },
      "execution_count": 73,
      "outputs": []
    },
    {
      "cell_type": "code",
      "source": [
        "print(df.head())  # Check if the column name has changed\n",
        "print(df.columns)"
      ],
      "metadata": {
        "colab": {
          "base_uri": "https://localhost:8080/"
        },
        "id": "mL4drY-zN3dr",
        "outputId": "fec42544-8f59-41aa-ce40-caa53976fec5"
      },
      "execution_count": 74,
      "outputs": [
        {
          "output_type": "stream",
          "name": "stdout",
          "text": [
            "   Compounds Name  anti-cancer  anti-inflammatory  anti-angiogenic  \\\n",
            "0    ursolic acid            1                  0                1   \n",
            "1       quercitin            1                  0                1   \n",
            "2      scopoletin            1                  1                1   \n",
            "3       bergapten            1                  0                0   \n",
            "4  falcarindiol,             1                  0                0   \n",
            "\n",
            "   anti-metastatic  \n",
            "0                1  \n",
            "1                1  \n",
            "2                0  \n",
            "3                0  \n",
            "4                0  \n",
            "Index(['Compounds Name', 'anti-cancer', 'anti-inflammatory', 'anti-angiogenic',\n",
            "       'anti-metastatic'],\n",
            "      dtype='object')\n"
          ]
        }
      ]
    },
    {
      "cell_type": "code",
      "source": [
        "# Feature selection\n",
        "feature_columns = [\"anti-cancer\", \"anti-inflammatory\", \"anti-angiogenic\", \"anti-metastatic\"]\n",
        "scaler = StandardScaler()\n",
        "scaled_features = scaler.fit_transform(df[feature_columns])"
      ],
      "metadata": {
        "id": "rfw_9GywRP6C"
      },
      "execution_count": 76,
      "outputs": []
    },
    {
      "cell_type": "code",
      "source": [
        "# Handle NaN or infinite values if present\n",
        "if np.any(np.isnan(df[feature_columns])) or np.any(np.isinf(df[feature_columns])):\n",
        "    df = df.dropna(subset=feature_columns)\n",
        "\n",
        "n_clusters = 4\n",
        "kmeans = KMeans(n_clusters=n_clusters, random_state=0, n_init=10)\n",
        "df['Cluster'] = kmeans.fit_predict(df[feature_columns])\n",
        "\n",
        "print(\"Number of compounds in each cluster:\")\n",
        "print(df['Cluster'].value_counts())"
      ],
      "metadata": {
        "colab": {
          "base_uri": "https://localhost:8080/"
        },
        "id": "Z9YOyf1ERT4Y",
        "outputId": "305aa6a5-e3a9-428e-a330-3264bf3eaf68"
      },
      "execution_count": 77,
      "outputs": [
        {
          "output_type": "stream",
          "name": "stdout",
          "text": [
            "Number of compounds in each cluster:\n",
            "Cluster\n",
            "0    132\n",
            "1     99\n",
            "2     22\n",
            "3     21\n",
            "Name: count, dtype: int64\n"
          ]
        }
      ]
    },
    {
      "cell_type": "code",
      "source": [
        "# Calculate cluster means\n",
        "cluster_means = df.groupby('Cluster')[feature_columns].mean()\n",
        "print(\"Mean Values for Each Cluster:\")\n",
        "print(cluster_means)"
      ],
      "metadata": {
        "colab": {
          "base_uri": "https://localhost:8080/"
        },
        "id": "mXllMBXiRgq4",
        "outputId": "67fb0d2b-e207-473a-ee95-7375b601b425"
      },
      "execution_count": 78,
      "outputs": [
        {
          "output_type": "stream",
          "name": "stdout",
          "text": [
            "Mean Values for Each Cluster:\n",
            "         anti-cancer  anti-inflammatory  anti-angiogenic  anti-metastatic\n",
            "Cluster                                                                  \n",
            "0                1.0           1.000000         0.946970         1.000000\n",
            "1                1.0           0.818182         0.000000         0.000000\n",
            "2                1.0           0.000000         0.909091         0.863636\n",
            "3                1.0           1.000000         1.000000         0.000000\n"
          ]
        }
      ]
    },
    {
      "cell_type": "code",
      "source": [
        "# Plot mean values of properties per cluster\n",
        "ax = cluster_means.plot(kind='bar', figsize=(10, 6))\n",
        "plt.title('Mean Values of Properties by Cluster')\n",
        "plt.ylabel('Mean Value')\n",
        "plt.xlabel('Cluster')\n",
        "plt.xticks(rotation=0)\n",
        "plt.grid(axis='y')\n",
        "plt.legend(title='Properties')\n",
        "plt.show()"
      ],
      "metadata": {
        "colab": {
          "base_uri": "https://localhost:8080/",
          "height": 564
        },
        "id": "WfFnpVjKRlV2",
        "outputId": "fad951df-ba4e-475a-bc02-6382dcd35fbd"
      },
      "execution_count": 79,
      "outputs": [
        {
          "output_type": "display_data",
          "data": {
            "text/plain": [
              "<Figure size 1000x600 with 1 Axes>"
            ],
            "image/png": "[encoded data removed]"
          },
          "metadata": {}
        }
      ]
    },
    {
      "cell_type": "code",
      "source": [
        "# Save cluster distribution\n",
        "cluster_distribution = df['Cluster'].value_counts().reset_index()\n",
        "cluster_distribution.columns = ['Cluster', 'Number of Compounds']\n",
        "cluster_distribution.to_excel('Cluster_Distribution.xlsx', index=False)"
      ],
      "metadata": {
        "id": "RDhFQVrTR346"
      },
      "execution_count": 80,
      "outputs": []
    },
    {
      "cell_type": "code",
      "source": [
        "# Save compound clustering results\n",
        "grouped = df.groupby('Cluster')['Compounds Name'].apply(list).reset_index()\n",
        "grouped.columns = ['Cluster', 'Compounds']\n",
        "compounds_expanded = grouped['Compounds'].apply(pd.Series)\n",
        "compounds_expanded.columns = [f'Compound {i+1}' for i in range(compounds_expanded.shape[1])]\n",
        "final_output = pd.concat([grouped[['Cluster']], compounds_expanded], axis=1)\n",
        "final_output.to_excel('Compounds_by_Cluster.xlsx', index=False)\n",
        "print(final_output)\n"
      ],
      "metadata": {
        "colab": {
          "base_uri": "https://localhost:8080/"
        },
        "id": "idv0lM20SD2z",
        "outputId": "ae4bff08-7c87-4ee7-b0ec-6160200ab0b2"
      },
      "execution_count": 81,
      "outputs": [
        {
          "output_type": "stream",
          "name": "stdout",
          "text": [
            "   Cluster    Compound 1      Compound 2            Compound 3  \\\n",
            "0        0     Berberine        Luteolin           gallic acid   \n",
            "1        1     bergapten  falcarindiol,            quinic acid   \n",
            "2        2  ursolic acid       quercitin  deoxypodophyllotoxin   \n",
            "3        3    scopoletin       myricetin            kaempferol   \n",
            "\n",
            "         Compound 4       Compound 5      Compound 6  \\\n",
            "0  Chlorogenic acid  Andrographolide       Diosgenin   \n",
            "1            phytol         gossypin        Thiamine   \n",
            "2       Vincristine      Girinimbine  Plumbagic acid   \n",
            "3           fisetin         carnosol    Sulforaphane   \n",
            "\n",
            "                 Compound 7         Compound 8   Compound 9  ... Compound 123  \\\n",
            "0               Astaxanthin           Honokiol  Schisandrin  ...  Oleocanthal   \n",
            "1         Proanthocyanidins  D-Glucuronic Acid   Hyperoside  ...          NaN   \n",
            "2                 Carvacrol         Hesperidin      Silybin  ...          NaN   \n",
            "3  Epigallocatechin Gallate         Naringetol     Cyanidin  ...          NaN   \n",
            "\n",
            "          Compound 124 Compound 125 Compound 126 Compound 127 Compound 128  \\\n",
            "0  Oleuropein Aglycone       Ombuin  Tetrandrine  Salidroside   Piplartine   \n",
            "1                  NaN          NaN          NaN          NaN          NaN   \n",
            "2                  NaN          NaN          NaN          NaN          NaN   \n",
            "3                  NaN          NaN          NaN          NaN          NaN   \n",
            "\n",
            "     Compound 129 Compound 130  Compound 131  Compound 132  \n",
            "0  Liquiritigenin      Phorbol  Alpha-Amyrin  Beta-Elemene  \n",
            "1             NaN          NaN           NaN           NaN  \n",
            "2             NaN          NaN           NaN           NaN  \n",
            "3             NaN          NaN           NaN           NaN  \n",
            "\n",
            "[4 rows x 133 columns]\n"
          ]
        }
      ]
    },
    {
      "cell_type": "code",
      "source": [
        "# Compute Silhouette Score\n",
        "silhouette_avg = silhouette_score(scaled_features, df['Cluster'])\n",
        "print(f'Silhouette Score: {silhouette_avg}')\n",
        "\n",
        "silhouette_df = pd.DataFrame({'Silhouette Score': [silhouette_avg]})\n",
        "silhouette_df.to_excel('Clustering_Silhouette_Score.xlsx', index=False)"
      ],
      "metadata": {
        "colab": {
          "base_uri": "https://localhost:8080/"
        },
        "id": "5Mj6iauZU52M",
        "outputId": "5a65128f-f69e-42d6-e105-bf62c0c5fcc2"
      },
      "execution_count": 82,
      "outputs": [
        {
          "output_type": "stream",
          "name": "stdout",
          "text": [
            "Silhouette Score: 0.798234873138006\n"
          ]
        }
      ]
    },
    {
      "cell_type": "markdown",
      "source": [
        "The 0.79 and 0.82 are likely different due to the way the scores are computed: one being an overall score for the final clustering and the other possibly reflecting the highest score observed during the analysis (or different evaluations of the clustering process)."
      ],
      "metadata": {
        "id": "pz7SYr2AXA6U"
      }
    },
    {
      "cell_type": "code",
      "source": [
        "# Elbow Method and Silhouette Score Analysis\n",
        "inertia = []\n",
        "silhouette_scores = []\n",
        "k_values = range(2, 5)\n",
        "\n",
        "for k in k_values:\n",
        "    kmeans = KMeans(n_clusters=k, random_state=42, n_init=10)\n",
        "    kmeans.fit(scaled_features)\n",
        "    inertia.append(kmeans.inertia_)\n",
        "    silhouette_scores.append(silhouette_score(scaled_features, kmeans.labels_))\n",
        "\n",
        "plt.figure(figsize=(12, 5))\n",
        "\n",
        "# Elbow Method Plot\n",
        "plt.subplot(1, 2, 1)\n",
        "plt.plot(k_values, inertia, marker='o', linestyle='--', color='b')\n",
        "plt.xlabel(\"Number of Clusters (k)\")\n",
        "plt.ylabel(\"Inertia (Within-cluster SSE)\")\n",
        "plt.title(\"Elbow Method\")\n",
        "\n",
        "# Silhouette Score Plot\n",
        "plt.subplot(1, 2, 2)\n",
        "plt.plot(k_values, silhouette_scores, marker='o', linestyle='--', color='g')\n",
        "plt.xlabel(\"Number of Clusters (k)\")\n",
        "plt.ylabel(\"Silhouette Score\")\n",
        "plt.title(\"Silhouette Score Analysis\")\n",
        "\n",
        "plt.tight_layout()\n",
        "plt.show()"
      ],
      "metadata": {
        "colab": {
          "base_uri": "https://localhost:8080/",
          "height": 476
        },
        "id": "SvhixRPkU8wy",
        "outputId": "95d022db-e341-462a-89c5-054e8a7a7580"
      },
      "execution_count": 85,
      "outputs": [
        {
          "output_type": "display_data",
          "data": {
            "text/plain": [
              "<Figure size 1200x500 with 2 Axes>"
            ],
            "image/png": "[encoded data removed]"
          },
          "metadata": {}
        }
      ]
    },
    {
      "cell_type": "code",
      "source": [
        "# Calculate a composite ranking score for each cluster\n",
        "cluster_means['Ranking Score'] = cluster_means.sum(axis=1)\n",
        "# Rank clusters based on the composite score in descending order\n",
        "cluster_ranking = cluster_means[['Ranking Score']].sort_values(by='Ranking Score', ascending=False)\n",
        "cluster_ranking['Rank'] = range(1, len(cluster_ranking) + 1)\n",
        "# Save the ranking to an Excel file\n",
        "cluster_ranking.to_excel('Cluster_Ranking.xlsx', index_label='Cluster')\n",
        "# Display the ranking\n",
        "print(\"Cluster Ranking based on composite score:\")\n",
        "print(cluster_ranking)"
      ],
      "metadata": {
        "colab": {
          "base_uri": "https://localhost:8080/"
        },
        "id": "bJu225bAXEzo",
        "outputId": "30b2df67-0299-4edd-bd0c-b4aab41dd7b0"
      },
      "execution_count": 86,
      "outputs": [
        {
          "output_type": "stream",
          "name": "stdout",
          "text": [
            "Cluster Ranking based on composite score:\n",
            "         Ranking Score  Rank\n",
            "Cluster                     \n",
            "0             3.946970     1\n",
            "3             3.000000     2\n",
            "2             2.772727     3\n",
            "1             1.818182     4\n"
          ]
        }
      ]
    }
  ]
}