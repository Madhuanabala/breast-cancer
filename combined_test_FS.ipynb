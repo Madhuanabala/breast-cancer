{
  "nbformat": 4,
  "nbformat_minor": 0,
  "metadata": {
    "colab": {
      "provenance": [],
      "authorship_tag": "ABX9TyN/2gCbpcVQ5HMSZv9zVBoL",
      "include_colab_link": true
    },
    "kernelspec": {
      "name": "python3",
      "display_name": "Python 3"
    },
    "language_info": {
      "name": "python"
    }
  },
  "cells": [
    {
      "cell_type": "markdown",
      "metadata": {
        "id": "view-in-github",
        "colab_type": "text"
      },
      "source": [
        "<a href=\"https://colab.research.google.com/github/Madhuanabala/breast-cancer/blob/feature-selection/combined_test_FS.ipynb\" target=\"_parent\"><img src=\"https://colab.research.google.com/assets/colab-badge.svg\" alt=\"Open In Colab\"/></a>"
      ]
    },
    {
      "cell_type": "code",
      "execution_count": 1,
      "metadata": {
        "colab": {
          "base_uri": "https://localhost:8080/"
        },
        "id": "goz1-To499gn",
        "outputId": "a4f4cac6-b38d-46ae-9380-05333cb3593c"
      },
      "outputs": [
        {
          "output_type": "stream",
          "name": "stdout",
          "text": [
            "['.config', 'Atom2dcount_Testset1_after_feature.csv', 'MACCS_Testset1_after_feature.csv', 'CDK_Testset1_after_feature.csv', 'KlekotaRothcount_Testset1_after_feature.csv', 'Substructurecount_Testset1_after_feature.csv', 'Substructure_Testset1_after_feature.csv', 'CDKgraphonly_Testset1_after_feature.csv', 'Morgan_Testset1_after_feature.csv', 'KlekotaRoth_Testset1_after_feature.csv', 'Atom2d_Testset1_after_feature.csv', 'RDkit_Testset1_after_feature.csv', 'Estate_Testset1_after_feature.csv', 'CDKextended_Testset1_after_feature.csv', 'pubchem_Testset1_after_feature.csv', 'sample_data']\n"
          ]
        }
      ],
      "source": [
        "import os\n",
        "print(os.listdir(\"/content\"))"
      ]
    },
    {
      "cell_type": "code",
      "source": [
        "import pandas as pd\n",
        "\n",
        "# Define the list of file paths for all 14 CSV files\n",
        "file_paths = ['Atom2dcount_Testset1_after_feature.csv', 'MACCS_Testset1_after_feature.csv', 'CDK_Testset1_after_feature.csv', 'KlekotaRothcount_Testset1_after_feature.csv', 'Substructurecount_Testset1_after_feature.csv', 'Substructure_Testset1_after_feature.csv', 'CDKgraphonly_Testset1_after_feature.csv', 'Morgan_Testset1_after_feature.csv', 'KlekotaRoth_Testset1_after_feature.csv', 'Atom2d_Testset1_after_feature.csv', 'RDkit_Testset1_after_feature.csv', 'Estate_Testset1_after_feature.csv', 'CDKextended_Testset1_after_feature.csv', 'pubchem_Testset1_after_feature.csv'\n",
        "\n",
        "]\n",
        "\n",
        "# Read the first dataset to initialize\n",
        "df_combined = pd.read_csv(file_paths[0])\n",
        "\n",
        "# Check if \"Unnamed: 0\" and \"bioactivity_class\" columns are the same across all datasets\n",
        "for file_path in file_paths[1:]:\n",
        "    df = pd.read_csv(file_path)\n",
        "\n",
        " # Check if 'Unnamed: 0' and 'bioactivity_class' columns are equal to the first dataset\n",
        "    if not df['Unnamed: 0'].equals(df_combined['Unnamed: 0']) or not df['bioactivity_class'].equals(df_combined['bioactivity_class']):\n",
        "        raise ValueError(f\"Mismatch in columns 'Unnamed: 0' or 'bioactivity_class' in file {file_path}\")\n",
        "\n",
        "# Now append the remaining datasets, keeping the column order as they are\n",
        "for file_path in file_paths[1:]:\n",
        "    df = pd.read_csv(file_path)\n",
        "\n",
        "    # Merge on 'Unnamed: 0' and 'bioactivity_class', but keep the rest of the columns as they are\n",
        "    df_combined = pd.merge(df_combined, df, on=['Unnamed: 0', 'bioactivity_class'], how='outer')\n",
        "\n",
        "# Save the combined dataframe to a new CSV file\n",
        "df_combined.to_csv(\"combined_dataset_test.csv\", index=False)\n",
        "\n",
        "print(\"Datasets combined successfully!\")"
      ],
      "metadata": {
        "colab": {
          "base_uri": "https://localhost:8080/"
        },
        "id": "U3Fbx4v1-Oa5",
        "outputId": "fff5ea09-1f08-4efd-e8ed-fd5249946003"
      },
      "execution_count": 3,
      "outputs": [
        {
          "output_type": "stream",
          "name": "stdout",
          "text": [
            "Datasets combined successfully!\n"
          ]
        }
      ]
    }
  ]
}