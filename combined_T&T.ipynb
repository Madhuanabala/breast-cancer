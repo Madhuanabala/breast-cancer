{
  "nbformat": 4,
  "nbformat_minor": 0,
  "metadata": {
    "colab": {
      "provenance": [],
      "authorship_tag": "ABX9TyPrwRtKrb6oRdi51vv1OhmK",
      "include_colab_link": true
    },
    "kernelspec": {
      "name": "python3",
      "display_name": "Python 3"
    },
    "language_info": {
      "name": "python"
    }
  },
  "cells": [
    {
      "cell_type": "markdown",
      "metadata": {
        "id": "view-in-github",
        "colab_type": "text"
      },
      "source": [
        "<a href=\"https://colab.research.google.com/github/Madhuanabala/breast-cancer/blob/model-building/combined_T%26T.ipynb\" target=\"_parent\"><img src=\"https://colab.research.google.com/assets/colab-badge.svg\" alt=\"Open In Colab\"/></a>"
      ]
    },
    {
      "cell_type": "code",
      "execution_count": 1,
      "metadata": {
        "colab": {
          "base_uri": "https://localhost:8080/",
          "height": 36
        },
        "id": "wAD-cg-2QpBj",
        "outputId": "2fb9dbc4-83fa-4bbe-ae56-a382f606c733"
      },
      "outputs": [
        {
          "output_type": "execute_result",
          "data": {
            "text/plain": [
              "'/content/combined_dataset_ordered.csv'"
            ],
            "application/vnd.google.colaboratory.intrinsic+json": {
              "type": "string"
            }
          },
          "metadata": {},
          "execution_count": 1
        }
      ],
      "source": [
        "import pandas as pd\n",
        "\n",
        "# Load the uploaded CSV files\n",
        "file_1_path = '/content/combined_dataset_fs.csv'\n",
        "file_2_path = '/content/combined_dataset_test.csv'\n",
        "\n",
        "# Read the files into dataframes\n",
        "df1 = pd.read_csv(file_1_path)\n",
        "df2 = pd.read_csv(file_2_path)\n",
        "\n",
        "# Reorder columns of df2 to match df1\n",
        "df2 = df2[df1.columns]\n",
        "\n",
        "# Combine the dataframes\n",
        "combined_df = pd.concat([df1, df2], ignore_index=True)\n",
        "\n",
        "# Save the combined dataframe\n",
        "output_path = '/content/combined_dataset_ordered.csv'\n",
        "combined_df.to_csv(output_path, index=False)\n",
        "\n",
        "output_path\n"
      ]
    }
  ]
}