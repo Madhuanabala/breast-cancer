{
  "nbformat": 4,
  "nbformat_minor": 0,
  "metadata": {
    "colab": {
      "provenance": [],
      "authorship_tag": "ABX9TyPKnhKDrUO97Crnd+MPrNct",
      "include_colab_link": true
    },
    "kernelspec": {
      "name": "python3",
      "display_name": "Python 3"
    },
    "language_info": {
      "name": "python"
    }
  },
  "cells": [
    {
      "cell_type": "markdown",
      "metadata": {
        "id": "view-in-github",
        "colab_type": "text"
      },
      "source": [
        "<a href=\"https://colab.research.google.com/github/Madhuanabala/breast-cancer/blob/feature-selection/Combined_FS.ipynb\" target=\"_parent\"><img src=\"https://colab.research.google.com/assets/colab-badge.svg\" alt=\"Open In Colab\"/></a>"
      ]
    },
    {
      "cell_type": "code",
      "source": [
        "import pandas as pd\n",
        "\n",
        "# Define the list of file paths for all 14 CSV files\n",
        "file_paths = [\n",
        "    'Estate_Trainset1_after_feature (1).csv',\n",
        "    'CDKextended_Trainset1_after_feature.csv',\n",
        "    'Morgan_Trainset1_after_feature.csv',\n",
        "    'KlekotaRothcount_Trainset1_after_feature.csv',\n",
        "    'MACCS_Trainset1_after_feature.csv',\n",
        "    'Atom2d_Trainset1_after_feature.csv',\n",
        "    'RDkit_Trainset1_after_feature.csv',\n",
        "    'Substructurecount_Trainset1_after_feature.csv',\n",
        "    'CDK_Trainset1_after_feature.csv',\n",
        "    'Pubchem_Trainset1_after_feature.csv',\n",
        "    'CDKgraphonly_Trainset1_after_feature.csv',\n",
        "    'Atom2dcount_Trainset1_after_feature.csv',\n",
        "    'Substructure_Trainset1_after_feature.csv',\n",
        "    'KlekotaRoth_Trainset1_after_feature.csv'\n",
        "]\n",
        "\n",
        "# Read the first dataset to initialize\n",
        "df_combined = pd.read_csv(file_paths[0])\n",
        "\n",
        "# Check if \"Unnamed: 0\" and \"bioactivity_class\" columns are the same across all datasets\n",
        "for file_path in file_paths[1:]:\n",
        "    df = pd.read_csv(file_path)\n",
        "\n",
        "    # Check if 'Unnamed: 0' and 'bioactivity_class' columns are equal to the first dataset\n",
        "    if not df['Unnamed: 0'].equals(df_combined['Unnamed: 0']) or not df['bioactivity_class'].equals(df_combined['bioactivity_class']):\n",
        "        raise ValueError(f\"Mismatch in columns 'Unnamed: 0' or 'bioactivity_class' in file {file_path}\")\n",
        "\n",
        "# Now append the remaining datasets, keeping the column order as they are\n",
        "for file_path in file_paths[1:]:\n",
        "    df = pd.read_csv(file_path)\n",
        "\n",
        "    # Merge on 'Unnamed: 0' and 'bioactivity_class', but keep the rest of the columns as they are\n",
        "    df_combined = pd.merge(df_combined, df, on=['Unnamed: 0', 'bioactivity_class'], how='outer')\n",
        "\n",
        "# Save the combined dataframe to a new CSV file\n",
        "df_combined.to_csv(\"combined_dataset_fs.csv\", index=False)\n",
        "\n",
        "print(\"Datasets combined successfully!\")\n"
      ],
      "metadata": {
        "colab": {
          "base_uri": "https://localhost:8080/"
        },
        "id": "Y_3PNw_nsB9p",
        "outputId": "6cdfc059-a1a4-4474-fc52-bb053d74524b"
      },
      "execution_count": 5,
      "outputs": [
        {
          "output_type": "stream",
          "name": "stdout",
          "text": [
            "Datasets combined successfully!\n"
          ]
        }
      ]
    }
  ]
}