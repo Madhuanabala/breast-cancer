{
  "nbformat": 4,
  "nbformat_minor": 0,
  "metadata": {
    "colab": {
      "provenance": [],
      "authorship_tag": "ABX9TyN9lHqMqU58fx1e9RCaV7Zt",
      "include_colab_link": true
    },
    "kernelspec": {
      "name": "python3",
      "display_name": "Python 3"
    },
    "language_info": {
      "name": "python"
    }
  },
  "cells": [
    {
      "cell_type": "markdown",
      "metadata": {
        "id": "view-in-github",
        "colab_type": "text"
      },
      "source": [
        "<a href=\"https://colab.research.google.com/github/Madhuanabala/breast-cancer/blob/feature-selection-2/Combined_FS_2.ipynb\" target=\"_parent\"><img src=\"https://colab.research.google.com/assets/colab-badge.svg\" alt=\"Open In Colab\"/></a>"
      ]
    },
    {
      "cell_type": "code",
      "execution_count": 1,
      "metadata": {
        "id": "v_UAOyEsR5w8"
      },
      "outputs": [],
      "source": [
        "import pandas as pd\n",
        "import os"
      ]
    },
    {
      "cell_type": "code",
      "source": [
        "directory = \"/content\"\n",
        "\n",
        "# List all CSV files in the directory\n",
        "csv_files = [file for file in os.listdir(directory) if file.endswith('.csv')]\n",
        "\n",
        "# Display the CSV file names\n",
        "print(csv_files)"
      ],
      "metadata": {
        "colab": {
          "base_uri": "https://localhost:8080/"
        },
        "id": "T-d7Ac2cUMfr",
        "outputId": "4fa23e2d-63ac-4e50-a782-b9feede39532"
      },
      "execution_count": 2,
      "outputs": [
        {
          "output_type": "stream",
          "name": "stdout",
          "text": [
            "['KlekotaRothFS2_after_feature.csv', 'CDK2__after_feature.csv', 'EstateFS2_after_feature.csv', 'MACCS FS2_after_feature.csv', 'CDKgraphonlyFS2_after_feature.csv', 'SSCFS2_after_feature.csv', 'Atom2d2__after_feature.csv', 'Atom2dcount2_after_feature.csv', 'CDKEXTENDED_FS2_after_feature.csv', 'MorganFp_after_feature.csv', 'KlekotaRothcountFS2_after_feature.csv', 'pubchemFs2_after_feature.csv', 'SSFS2_after_feature.csv', 'RdkitFs2_after_feature.csv']\n"
          ]
        }
      ]
    },
    {
      "cell_type": "code",
      "source": [
        "file_paths = [\n",
        "    'KlekotaRothFS2_after_feature.csv', 'CDK2__after_feature.csv', 'EstateFS2_after_feature.csv', 'MACCS FS2_after_feature.csv', 'CDKgraphonlyFS2_after_feature.csv', 'SSCFS2_after_feature.csv', 'Atom2d2__after_feature.csv', 'Atom2dcount2_after_feature.csv', 'CDKEXTENDED_FS2_after_feature.csv', 'MorganFp_after_feature.csv', 'KlekotaRothcountFS2_after_feature.csv', 'pubchemFs2_after_feature.csv', 'SSFS2_after_feature.csv', 'RdkitFs2_after_feature.csv'\n",
        "\n",
        "\n",
        "]\n",
        "# Read the first dataset to initialize\n",
        "df_combined = pd.read_csv(file_paths[0])\n",
        "\n",
        "# Check if \"Unnamed: 0\" and \"bioactivity_class\" columns are the same across all datasets\n",
        "for file_path in file_paths[1:]:\n",
        "    df = pd.read_csv(file_path)\n",
        "\n",
        "    # Check if 'Unnamed: 0' and 'bioactivity_class' columns are equal to the first dataset\n",
        "    if not df['Unnamed: 0'].equals(df_combined['Unnamed: 0']) or not df['bioactivity_class'].equals(df_combined['bioactivity_class']):\n",
        "        raise ValueError(f\"Mismatch in columns 'Unnamed: 0' or 'bioactivity_class' in file {file_path}\")\n",
        "\n",
        "# Now append the remaining datasets, keeping the column order as they are\n",
        "for file_path in file_paths[1:]:\n",
        "    df = pd.read_csv(file_path)\n",
        "\n",
        "    # Merge on 'Unnamed: 0' and 'bioactivity_class', but keep the rest of the columns as they are\n",
        "    df_combined = pd.merge(df_combined, df, on=['Unnamed: 0', 'bioactivity_class'], how='outer')\n",
        "\n",
        "# Save the combined dataframe to a new CSV file\n",
        "df_combined.to_csv(\"combined_dataset_fs_2.csv\", index=False)\n",
        "\n",
        "print(\"Datasets combined successfully!\")\n"
      ],
      "metadata": {
        "colab": {
          "base_uri": "https://localhost:8080/"
        },
        "id": "dhRg0KPHUxl7",
        "outputId": "3a399188-7bdd-4409-c59e-06f7265bcaf5"
      },
      "execution_count": 3,
      "outputs": [
        {
          "output_type": "stream",
          "name": "stdout",
          "text": [
            "Datasets combined successfully!\n"
          ]
        }
      ]
    }
  ]
}