{
  "nbformat": 4,
  "nbformat_minor": 0,
  "metadata": {
    "colab": {
      "provenance": [],
      "authorship_tag": "ABX9TyN4ixXEKzgz3WSgcSrqA3Jy",
      "include_colab_link": true
    },
    "kernelspec": {
      "name": "python3",
      "display_name": "Python 3"
    },
    "language_info": {
      "name": "python"
    }
  },
  "cells": [
    {
      "cell_type": "markdown",
      "metadata": {
        "id": "view-in-github",
        "colab_type": "text"
      },
      "source": [
        "<a href=\"https://colab.research.google.com/github/Madhuanabala/breast-cancer/blob/feature-selection-2/Combined_FS_2.ipynb\" target=\"_parent\"><img src=\"https://colab.research.google.com/assets/colab-badge.svg\" alt=\"Open In Colab\"/></a>"
      ]
    },
    {
      "cell_type": "code",
      "execution_count": null,
      "metadata": {
        "id": "v_UAOyEsR5w8"
      },
      "outputs": [],
      "source": [
        "import pandas as pd\n",
        "import os"
      ]
    },
    {
      "cell_type": "code",
      "source": [
        "directory = \"/content\"\n",
        "\n",
        "# List all CSV files in the directory\n",
        "csv_files = [file for file in os.listdir(directory) if file.endswith('.csv')]\n",
        "\n",
        "# Display the CSV file names\n",
        "print(csv_files)"
      ],
      "metadata": {
        "colab": {
          "base_uri": "https://localhost:8080/"
        },
        "id": "T-d7Ac2cUMfr",
        "outputId": "4fa23e2d-63ac-4e50-a782-b9feede39532"
      },
      "execution_count": null,
      "outputs": [
        {
          "output_type": "stream",
          "name": "stdout",
          "text": [
            "['KlekotaRothFS2_after_feature.csv', 'CDK2__after_feature.csv', 'EstateFS2_after_feature.csv', 'MACCS FS2_after_feature.csv', 'CDKgraphonlyFS2_after_feature.csv', 'SSCFS2_after_feature.csv', 'Atom2d2__after_feature.csv', 'Atom2dcount2_after_feature.csv', 'CDKEXTENDED_FS2_after_feature.csv', 'MorganFp_after_feature.csv', 'KlekotaRothcountFS2_after_feature.csv', 'pubchemFs2_after_feature.csv', 'SSFS2_after_feature.csv', 'RdkitFs2_after_feature.csv']\n"
          ]
        }
      ]
    },
    {
      "cell_type": "code",
      "source": [
        "file_paths = [\n",
        "    'KlekotaRothFS2_after_feature.csv', 'CDK2__after_feature.csv', 'EstateFS2_after_feature.csv', 'MACCS FS2_after_feature.csv', 'CDKgraphonlyFS2_after_feature.csv', 'SSCFS2_after_feature.csv', 'Atom2d2__after_feature.csv', 'Atom2dcount2_after_feature.csv', 'CDKEXTENDED_FS2_after_feature.csv', 'MorganFp_after_feature.csv', 'KlekotaRothcountFS2_after_feature.csv', 'pubchemFs2_after_feature.csv', 'SSFS2_after_feature.csv', 'RdkitFs2_after_feature.csv'\n",
        "\n",
        "\n",
        "]\n",
        "# Read the first dataset to initialize\n",
        "df_combined = pd.read_csv(file_paths[0])\n",
        "\n",
        "# Check if \"Unnamed: 0\" and \"bioactivity_class\" columns are the same across all datasets\n",
        "for file_path in file_paths[1:]:\n",
        "    df = pd.read_csv(file_path)\n",
        "\n",
        "    # Check if 'Unnamed: 0' and 'bioactivity_class' columns are equal to the first dataset\n",
        "    if not df['Unnamed: 0'].equals(df_combined['Unnamed: 0']) or not df['bioactivity_class'].equals(df_combined['bioactivity_class']):\n",
        "        raise ValueError(f\"Mismatch in columns 'Unnamed: 0' or 'bioactivity_class' in file {file_path}\")\n",
        "\n",
        "# Now append the remaining datasets, keeping the column order as they are\n",
        "for file_path in file_paths[1:]:\n",
        "    df = pd.read_csv(file_path)\n",
        "\n",
        "    # Merge on 'Unnamed: 0' and 'bioactivity_class', but keep the rest of the columns as they are\n",
        "    df_combined = pd.merge(df_combined, df, on=['Unnamed: 0', 'bioactivity_class'], how='outer')\n",
        "\n",
        "# Save the combined dataframe to a new CSV file\n",
        "df_combined.to_csv(\"combined_dataset_fs_2.csv\", index=False)\n",
        "\n",
        "print(\"Datasets combined successfully!\")\n"
      ],
      "metadata": {
        "colab": {
          "base_uri": "https://localhost:8080/"
        },
        "id": "dhRg0KPHUxl7",
        "outputId": "3a399188-7bdd-4409-c59e-06f7265bcaf5"
      },
      "execution_count": null,
      "outputs": [
        {
          "output_type": "stream",
          "name": "stdout",
          "text": [
            "Datasets combined successfully!\n"
          ]
        }
      ]
    },
    {
      "cell_type": "code",
      "source": [
        "import os\n",
        "import pandas as pd\n",
        "\n",
        "# Specify the directory containing the CSV files\n",
        "directory = \"/content\"\n",
        "\n",
        "# List all CSV files in the directory\n",
        "csv_files = [file for file in os.listdir(directory) if file.endswith('.csv')]\n",
        "\n",
        "# Function to check if all columns in a dataframe are binary\n",
        "def is_binary(df):\n",
        "    return df.apply(lambda col: col.dropna().isin([0, 1]).all()).all()\n",
        "\n",
        "# Check each CSV file\n",
        "non_binary_files = []\n",
        "for csv_file in csv_files:\n",
        "    file_path = os.path.join(directory, csv_file)\n",
        "    try:\n",
        "        # Read the CSV file\n",
        "        df = pd.read_csv(file_path)\n",
        "        # Check if the data is binary\n",
        "        if not is_binary(df):\n",
        "            non_binary_files.append(csv_file)\n",
        "    except Exception as e:\n",
        "        print(f\"Error reading {csv_file}: {e}\")\n",
        "\n",
        "# Print results\n",
        "if non_binary_files:\n",
        "    print(\"The following files do not have binary data:\")\n",
        "    for file in non_binary_files:\n",
        "        print(file)\n",
        "else:\n",
        "    print(\"All files contain binary data.\")\n"
      ],
      "metadata": {
        "colab": {
          "base_uri": "https://localhost:8080/"
        },
        "id": "n6y5qFpScrnZ",
        "outputId": "0e0408c6-126b-4bb3-b7b9-b2d31e2b1644"
      },
      "execution_count": 4,
      "outputs": [
        {
          "output_type": "stream",
          "name": "stdout",
          "text": [
            "The following files do not have binary data:\n",
            "KlekotaRothFS2_after_feature.csv\n",
            "CDK2__after_feature.csv\n",
            "EstateFS2_after_feature.csv\n",
            "MACCS FS2_after_feature.csv\n",
            "CDKgraphonlyFS2_after_feature.csv\n",
            "SSCFS2_after_feature.csv\n",
            "Atom2d2__after_feature.csv\n",
            "Atom2dcount2_after_feature.csv\n",
            "combined_dataset_fs_2.csv\n",
            "CDKEXTENDED_FS2_after_feature.csv\n",
            "MorganFp_after_feature.csv\n",
            "KlekotaRothcountFS2_after_feature.csv\n",
            "pubchemFs2_after_feature.csv\n",
            "SSFS2_after_feature.csv\n",
            "RdkitFs2_after_feature.csv\n"
          ]
        }
      ]
    },
    {
      "cell_type": "code",
      "source": [
        "import os\n",
        "import pandas as pd\n",
        "\n",
        "# Specify the directory containing the CSV files\n",
        "directory = \"/content\"\n",
        "\n",
        "# List all CSV files in the directory\n",
        "csv_files = [file for file in os.listdir(directory) if file.endswith('.csv')]\n",
        "\n",
        "# Function to check if all columns in a dataframe (excluding the first) are binary\n",
        "def is_binary(df):\n",
        "    # Exclude the first column (unnamed) and check if all other columns have binary values\n",
        "    return df.iloc[:, 1:].apply(lambda col: col.dropna().isin([0, 1]).all()).all()\n",
        "\n",
        "# Check each CSV file\n",
        "non_binary_files = []\n",
        "for csv_file in csv_files:\n",
        "    file_path = os.path.join(directory, csv_file)\n",
        "    try:\n",
        "        # Read the CSV file\n",
        "        df = pd.read_csv(file_path)\n",
        "        # Check if the data (excluding the first column) is binary\n",
        "        if not is_binary(df):\n",
        "            non_binary_files.append(csv_file)\n",
        "    except Exception as e:\n",
        "        print(f\"Error reading {csv_file}: {e}\")\n",
        "\n",
        "# Print results\n",
        "if non_binary_files:\n",
        "    print(\"The following files do not have binary data (excluding the first column):\")\n",
        "    for file in non_binary_files:\n",
        "        print(file)\n",
        "else:\n",
        "    print(\"All files contain binary data (excluding the first column).\")\n"
      ],
      "metadata": {
        "colab": {
          "base_uri": "https://localhost:8080/"
        },
        "id": "dHWA1pdsdGLN",
        "outputId": "c9ac20e0-e1b4-4146-9878-610b7f7ce284"
      },
      "execution_count": 5,
      "outputs": [
        {
          "output_type": "stream",
          "name": "stdout",
          "text": [
            "The following files do not have binary data (excluding the first column):\n",
            "SSCFS2_after_feature.csv\n",
            "Atom2dcount2_after_feature.csv\n",
            "combined_dataset_fs_2.csv\n",
            "KlekotaRothcountFS2_after_feature.csv\n"
          ]
        }
      ]
    },
    {
      "cell_type": "code",
      "source": [
        "# List of specific files\n",
        "specific_files = [\n",
        "    \"SSCFS2_after_feature.csv\",\n",
        "    \"Atom2dcount2_after_feature.csv\",\n",
        "\n",
        "    \"KlekotaRothcountFS2_after_feature.csv\"\n",
        "]\n",
        "\n",
        "# Check for non-binary columns (excluding the first column) in these files\n",
        "non_binary_columns = {}\n",
        "directory = \"/content\"  # specify your directory\n",
        "\n",
        "for csv_file in specific_files:\n",
        "    file_path = os.path.join(directory, csv_file)\n",
        "    try:\n",
        "        # Read the CSV file\n",
        "        df = pd.read_csv(file_path)\n",
        "\n",
        "        # Identify non-binary columns (excluding the first column)\n",
        "        non_binary_cols = df.iloc[:, 1:].columns[~df.iloc[:, 1:].apply(lambda col: col.dropna().isin([0, 1]).all())].tolist()\n",
        "\n",
        "        # If there are any non-binary columns, store them\n",
        "        if non_binary_cols:\n",
        "            non_binary_columns[csv_file] = non_binary_cols\n",
        "    except Exception as e:\n",
        "        print(f\"Error reading {csv_file}: {e}\")\n",
        "\n",
        "# Print the results\n",
        "if non_binary_columns:\n",
        "    print(\"Non-binary columns (excluding the first column) in the following files:\")\n",
        "    for file, cols in non_binary_columns.items():\n",
        "        print(f\"{file}: {', '.join(cols)}\")\n",
        "else:\n",
        "    print(\"All specified files contain only binary data in the relevant columns.\")\n"
      ],
      "metadata": {
        "colab": {
          "base_uri": "https://localhost:8080/"
        },
        "id": "OazTh5Ooei_3",
        "outputId": "0f654de2-15e7-45cb-d8ea-7fe1dfeb91c5"
      },
      "execution_count": 8,
      "outputs": [
        {
          "output_type": "stream",
          "name": "stdout",
          "text": [
            "Non-binary columns (excluding the first column) in the following files:\n",
            "SSCFS2_after_feature.csv: SubFPC12, SubFPC15, SubFPC65, SubFPC74, SubFPC136, SubFPC137, SubFPC171, SubFPC181, SubFPC274, SubFPC275, SubFPC287, SubFPC295, SubFPC300, SubFPC302, SubFPC307\n",
            "Atom2dcount2_after_feature.csv: APC2D1_C_N, APC2D1_C_O, APC2D2_N_N, APC2D3_N_O, APC2D3_O_O, APC2D4_N_N, APC2D4_N_O, APC2D4_O_O, APC2D6_N_X, APC2D6_O_O, APC2D7_N_S, APC2D8_N_O, APC2D9_N_O, APC2D9_O_O, APC2D10_N_O\n",
            "KlekotaRothcountFS2_after_feature.csv: KRFPC67, KRFPC298, KRFPC401, KRFPC669, KRFPC1146, KRFPC1811, KRFPC2975, KRFPC3283, KRFPC3389, KRFPC3408, KRFPC3434, KRFPC3718, KRFPC3946, KRFPC4293\n"
          ]
        }
      ]
    }
  ]
}